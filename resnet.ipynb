{
 "cells": [
  {
   "cell_type": "code",
   "execution_count": 2,
   "metadata": {},
   "outputs": [
    {
     "name": "stdout",
     "output_type": "stream",
     "text": [
      "Collecting torch\n",
      "  Downloading torch-1.13.1-cp39-cp39-win_amd64.whl (162.5 MB)\n",
      "Requirement already satisfied: typing-extensions in d:\\coding\\anaconda\\lib\\site-packages (from torch) (4.1.1)\n",
      "Installing collected packages: torch\n",
      "Successfully installed torch-1.13.1\n",
      "Note: you may need to restart the kernel to use updated packages.\n"
     ]
    },
    {
     "name": "stderr",
     "output_type": "stream",
     "text": [
      "WARNING: Ignoring invalid distribution -pencv-python-headless (d:\\coding\\anaconda\\lib\\site-packages)\n",
      "WARNING: Ignoring invalid distribution -pencv-python-headless (d:\\coding\\anaconda\\lib\\site-packages)\n",
      "WARNING: Ignoring invalid distribution -pencv-python-headless (d:\\coding\\anaconda\\lib\\site-packages)\n",
      "WARNING: Ignoring invalid distribution -pencv-python-headless (d:\\coding\\anaconda\\lib\\site-packages)\n",
      "WARNING: Ignoring invalid distribution -pencv-python-headless (d:\\coding\\anaconda\\lib\\site-packages)\n",
      "WARNING: Ignoring invalid distribution -pencv-python-headless (d:\\coding\\anaconda\\lib\\site-packages)\n",
      "WARNING: Ignoring invalid distribution -pencv-python-headless (d:\\coding\\anaconda\\lib\\site-packages)\n"
     ]
    }
   ],
   "source": [
    "pip install torch"
   ]
  },
  {
   "cell_type": "code",
   "execution_count": 5,
   "metadata": {},
   "outputs": [
    {
     "name": "stdout",
     "output_type": "stream",
     "text": [
      "Collecting torchvision\n",
      "  Downloading torchvision-0.14.1-cp39-cp39-win_amd64.whl (1.1 MB)\n",
      "Requirement already satisfied: torch==1.13.1 in d:\\coding\\anaconda\\lib\\site-packages (from torchvision) (1.13.1)\n",
      "Requirement already satisfied: pillow!=8.3.*,>=5.3.0 in d:\\coding\\anaconda\\lib\\site-packages (from torchvision) (9.0.1)\n",
      "Requirement already satisfied: requests in d:\\coding\\anaconda\\lib\\site-packages (from torchvision) (2.27.1)\n",
      "Requirement already satisfied: numpy in d:\\coding\\anaconda\\lib\\site-packages (from torchvision) (1.21.5)\n",
      "Requirement already satisfied: typing-extensions in d:\\coding\\anaconda\\lib\\site-packages (from torchvision) (4.1.1)\n",
      "Requirement already satisfied: urllib3<1.27,>=1.21.1 in d:\\coding\\anaconda\\lib\\site-packages (from requests->torchvision) (1.26.9)\n",
      "Requirement already satisfied: certifi>=2017.4.17 in d:\\coding\\anaconda\\lib\\site-packages (from requests->torchvision) (2021.10.8)\n",
      "Requirement already satisfied: charset-normalizer~=2.0.0 in d:\\coding\\anaconda\\lib\\site-packages (from requests->torchvision) (2.0.4)\n",
      "Requirement already satisfied: idna<4,>=2.5 in d:\\coding\\anaconda\\lib\\site-packages (from requests->torchvision) (3.3)\n",
      "Installing collected packages: torchvision\n",
      "Successfully installed torchvision-0.14.1\n",
      "Note: you may need to restart the kernel to use updated packages.\n"
     ]
    },
    {
     "name": "stderr",
     "output_type": "stream",
     "text": [
      "WARNING: Ignoring invalid distribution -pencv-python-headless (d:\\coding\\anaconda\\lib\\site-packages)\n",
      "WARNING: Ignoring invalid distribution -pencv-python-headless (d:\\coding\\anaconda\\lib\\site-packages)\n",
      "WARNING: Ignoring invalid distribution -pencv-python-headless (d:\\coding\\anaconda\\lib\\site-packages)\n",
      "WARNING: Ignoring invalid distribution -pencv-python-headless (d:\\coding\\anaconda\\lib\\site-packages)\n",
      "WARNING: Ignoring invalid distribution -pencv-python-headless (d:\\coding\\anaconda\\lib\\site-packages)\n",
      "WARNING: Ignoring invalid distribution -pencv-python-headless (d:\\coding\\anaconda\\lib\\site-packages)\n",
      "WARNING: Ignoring invalid distribution -pencv-python-headless (d:\\coding\\anaconda\\lib\\site-packages)\n"
     ]
    }
   ],
   "source": [
    "pip install torchvision"
   ]
  },
  {
   "cell_type": "code",
   "execution_count": 25,
   "metadata": {},
   "outputs": [],
   "source": [
    "import torch\n",
    "from torch.utils.data import Dataset, DataLoader\n",
    "import pandas as pd\n",
    "\n",
    "class CustomDataset(Dataset):\n",
    "    def __init__(self, csv_file):\n",
    "        self.data = pd.read_csv(csv_file)\n",
    "\n",
    "    def __len__(self):\n",
    "        return len(self.data)\n",
    "\n",
    "    def __getitem__(self, idx):\n",
    "        label = self.data.iloc[idx, -1]\n",
    "        features = torch.tensor(self.data.iloc[idx, :-1].values, dtype=torch.float32)\n",
    "        return features, label\n",
    "\n",
    "dataset = CustomDataset('pd_speech_features.csv')\n"
   ]
  },
  {
   "cell_type": "code",
   "execution_count": 26,
   "metadata": {},
   "outputs": [
    {
     "name": "stderr",
     "output_type": "stream",
     "text": [
      "d:\\CODING\\anaconda\\lib\\site-packages\\torchvision\\models\\_utils.py:208: UserWarning: The parameter 'pretrained' is deprecated since 0.13 and may be removed in the future, please use 'weights' instead.\n",
      "  warnings.warn(\n",
      "d:\\CODING\\anaconda\\lib\\site-packages\\torchvision\\models\\_utils.py:223: UserWarning: Arguments other than a weight enum or `None` for 'weights' are deprecated since 0.13 and may be removed in the future. The current behavior is equivalent to passing `weights=None`.\n",
      "  warnings.warn(msg)\n"
     ]
    }
   ],
   "source": [
    "import torchvision.models as models\n",
    "\n",
    "model = models.resnet18(pretrained=False)\n",
    "num_features = model.fc.in_features\n",
    "model.fc = torch.nn.Linear(num_features, 2)  # 2 classes: 0 or 1\n"
   ]
  },
  {
   "cell_type": "code",
   "execution_count": 29,
   "metadata": {},
   "outputs": [
    {
     "name": "stdout",
     "output_type": "stream",
     "text": [
      "Epoch 1/10, Train Loss: 0.5479, Train Acc: 0.7632, Val Loss: 2.5901, Val Acc: 0.3289\n"
     ]
    },
    {
     "ename": "KeyboardInterrupt",
     "evalue": "",
     "output_type": "error",
     "traceback": [
      "\u001b[1;31m---------------------------------------------------------------------------\u001b[0m",
      "\u001b[1;31mKeyboardInterrupt\u001b[0m                         Traceback (most recent call last)",
      "Cell \u001b[1;32mIn [29], line 47\u001b[0m\n\u001b[0;32m     43\u001b[0m \u001b[39m# labels=tenzor(labels,0)\u001b[39;00m\n\u001b[0;32m     44\u001b[0m \u001b[39m# unique_targets = torch.unique(labels)\u001b[39;00m\n\u001b[0;32m     45\u001b[0m \u001b[39m# print(unique_targets)\u001b[39;00m\n\u001b[0;32m     46\u001b[0m loss \u001b[39m=\u001b[39m criterion(outputs, labels)\n\u001b[1;32m---> 47\u001b[0m loss\u001b[39m.\u001b[39;49mbackward()\n\u001b[0;32m     48\u001b[0m optimizer\u001b[39m.\u001b[39mstep()\n\u001b[0;32m     49\u001b[0m train_loss \u001b[39m+\u001b[39m\u001b[39m=\u001b[39m loss\u001b[39m.\u001b[39mitem() \u001b[39m*\u001b[39m features\u001b[39m.\u001b[39msize(\u001b[39m0\u001b[39m)\n",
      "File \u001b[1;32md:\\CODING\\anaconda\\lib\\site-packages\\torch\\_tensor.py:488\u001b[0m, in \u001b[0;36mTensor.backward\u001b[1;34m(self, gradient, retain_graph, create_graph, inputs)\u001b[0m\n\u001b[0;32m    478\u001b[0m \u001b[39mif\u001b[39;00m has_torch_function_unary(\u001b[39mself\u001b[39m):\n\u001b[0;32m    479\u001b[0m     \u001b[39mreturn\u001b[39;00m handle_torch_function(\n\u001b[0;32m    480\u001b[0m         Tensor\u001b[39m.\u001b[39mbackward,\n\u001b[0;32m    481\u001b[0m         (\u001b[39mself\u001b[39m,),\n\u001b[1;32m   (...)\u001b[0m\n\u001b[0;32m    486\u001b[0m         inputs\u001b[39m=\u001b[39minputs,\n\u001b[0;32m    487\u001b[0m     )\n\u001b[1;32m--> 488\u001b[0m torch\u001b[39m.\u001b[39;49mautograd\u001b[39m.\u001b[39;49mbackward(\n\u001b[0;32m    489\u001b[0m     \u001b[39mself\u001b[39;49m, gradient, retain_graph, create_graph, inputs\u001b[39m=\u001b[39;49minputs\n\u001b[0;32m    490\u001b[0m )\n",
      "File \u001b[1;32md:\\CODING\\anaconda\\lib\\site-packages\\torch\\autograd\\__init__.py:197\u001b[0m, in \u001b[0;36mbackward\u001b[1;34m(tensors, grad_tensors, retain_graph, create_graph, grad_variables, inputs)\u001b[0m\n\u001b[0;32m    192\u001b[0m     retain_graph \u001b[39m=\u001b[39m create_graph\n\u001b[0;32m    194\u001b[0m \u001b[39m# The reason we repeat same the comment below is that\u001b[39;00m\n\u001b[0;32m    195\u001b[0m \u001b[39m# some Python versions print out the first line of a multi-line function\u001b[39;00m\n\u001b[0;32m    196\u001b[0m \u001b[39m# calls in the traceback and some print out the last line\u001b[39;00m\n\u001b[1;32m--> 197\u001b[0m Variable\u001b[39m.\u001b[39;49m_execution_engine\u001b[39m.\u001b[39;49mrun_backward(  \u001b[39m# Calls into the C++ engine to run the backward pass\u001b[39;49;00m\n\u001b[0;32m    198\u001b[0m     tensors, grad_tensors_, retain_graph, create_graph, inputs,\n\u001b[0;32m    199\u001b[0m     allow_unreachable\u001b[39m=\u001b[39;49m\u001b[39mTrue\u001b[39;49;00m, accumulate_grad\u001b[39m=\u001b[39;49m\u001b[39mTrue\u001b[39;49;00m)\n",
      "\u001b[1;31mKeyboardInterrupt\u001b[0m: "
     ]
    }
   ],
   "source": [
    "from sklearn.model_selection import train_test_split\n",
    "\n",
    "train_dataset, val_dataset = train_test_split(dataset, test_size=0.2, random_state=42)\n",
    "\n",
    "train_loader = DataLoader(train_dataset, batch_size=32, shuffle=True)\n",
    "import torch\n",
    "\n",
    "def tenzor(input,c):\n",
    "    # Assume your input has shape [batch_size, num_features]\n",
    "    batch_size = input.size(0)\n",
    "    if(c==0):\n",
    "        num_features = input.size(1)\n",
    "    else:\n",
    "        num_features = 1\n",
    "    # Reshape the input to [batch_size, 1, num_features, 1]\n",
    "    input = torch.reshape(input, (batch_size, 1, num_features, 1))\n",
    "\n",
    "    # Repeat the input along the channel dimension to create 3 channels\n",
    "    input = input.repeat(1, 3, 1, 1)\n",
    "\n",
    "    # Resize the input to 224x224 using interpolation\n",
    "    input = torch.nn.functional.interpolate(input, size=(224, 224), mode='bilinear', align_corners=False)\n",
    "    return input\n",
    "\n",
    "val_loader = DataLoader(val_dataset, batch_size=32)\n",
    "\n",
    "optimizer = torch.optim.Adam(model.parameters(), lr=0.001)\n",
    "criterion = torch.nn.CrossEntropyLoss()\n",
    "\n",
    "num_epochs = 10\n",
    "\n",
    "for epoch in range(num_epochs):\n",
    "    train_loss = 0\n",
    "    train_acc = 0\n",
    "    model.train()\n",
    "    for features, labels in train_loader:\n",
    "        optimizer.zero_grad()\n",
    "        features=tenzor(features,0)\n",
    "        outputs = model(features)\n",
    "        # print(outputs,labels)\n",
    "        # labels=labels.float()\n",
    "        labels=labels.view(-1)\n",
    "        # labels=tenzor(labels,0)\n",
    "        # unique_targets = torch.unique(labels)\n",
    "        # print(unique_targets)\n",
    "        loss = criterion(outputs, labels)\n",
    "        loss.backward()\n",
    "        optimizer.step()\n",
    "        train_loss += loss.item() * features.size(0)\n",
    "        train_acc += (outputs.argmax(dim=1) == labels).sum().item()\n",
    "    train_loss /= len(train_dataset)\n",
    "    train_acc /= len(train_dataset)\n",
    "\n",
    "    val_loss = 0\n",
    "    val_acc = 0\n",
    "    model.eval()\n",
    "    with torch.no_grad():\n",
    "        for features, labels in val_loader:\n",
    "            features=tenzor(features,0)\n",
    "            outputs = model(features)\n",
    "            labels=labels.view(-1)\n",
    "            loss = criterion(outputs, labels)\n",
    "            val_loss += loss.item() * features.size(0)\n",
    "            val_acc += (outputs.argmax(dim=1) == labels).sum().item()\n",
    "        val_loss /= len(val_dataset)\n",
    "        val_acc /= len(val_dataset)\n",
    "\n",
    "    print(f'Epoch {epoch+1}/{num_epochs}, Train Loss: {train_loss:.4f}, Train Acc: {train_acc:.4f}, Val Loss: {val_loss:.4f}, Val Acc: {val_acc:.4f}')\n"
   ]
  },
  {
   "cell_type": "code",
   "execution_count": null,
   "metadata": {},
   "outputs": [],
   "source": [
    "test_dataset = CustomDataset('test_data.csv')\n",
    "test_loader = DataLoader(test_dataset, batch_size=32)\n",
    "\n",
    "model.eval()\n",
    "test_loss = 0\n",
    "test_acc = 0\n",
    "with torch.no_grad():\n",
    "    for features, labels in test_loader:\n",
    "        outputs = model(features)\n",
    "        loss = criterion(outputs, labels)\n",
    "        test_loss += loss.item() * features.size(0)\n",
    "        test_acc += (outputs.argmax(dim=1) == labels).sum().item()\n",
    "    test_loss /= len(test_dataset)\n",
    "    test_acc /= len(test_dataset)\n",
    "\n",
    "print(f'Test Loss: {test_loss:.4f}, Test Acc: {test_acc:.4f}')\n"
   ]
  },
  {
   "cell_type": "code",
   "execution_count": 11,
   "metadata": {},
   "outputs": [
    {
     "ename": "AttributeError",
     "evalue": "'list' object has no attribute 'iloc'",
     "output_type": "error",
     "traceback": [
      "\u001b[1;31m---------------------------------------------------------------------------\u001b[0m",
      "\u001b[1;31mAttributeError\u001b[0m                            Traceback (most recent call last)",
      "Cell \u001b[1;32mIn [11], line 1\u001b[0m\n\u001b[1;32m----> 1\u001b[0m \u001b[39mprint\u001b[39m(dataset\u001b[39m.\u001b[39;49miloc[:,:\u001b[39m-\u001b[39m\u001b[39m1\u001b[39m]\u001b[39m.\u001b[39msize(\u001b[39m0\u001b[39m))\n",
      "\u001b[1;31mAttributeError\u001b[0m: 'list' object has no attribute 'iloc'"
     ]
    }
   ],
   "source": [
    "print(dataset.iloc[:,:-1].size(0))"
   ]
  },
  {
   "cell_type": "code",
   "execution_count": null,
   "metadata": {},
   "outputs": [],
   "source": []
  }
 ],
 "metadata": {
  "kernelspec": {
   "display_name": "Python 3",
   "language": "python",
   "name": "python3"
  },
  "language_info": {
   "codemirror_mode": {
    "name": "ipython",
    "version": 3
   },
   "file_extension": ".py",
   "mimetype": "text/x-python",
   "name": "python",
   "nbconvert_exporter": "python",
   "pygments_lexer": "ipython3",
   "version": "3.9.12"
  },
  "orig_nbformat": 4,
  "vscode": {
   "interpreter": {
    "hash": "220d8673de9eee696a3f9b9c34cfc5a7f305402fe20c03b61034f76bc89d8b75"
   }
  }
 },
 "nbformat": 4,
 "nbformat_minor": 2
}
